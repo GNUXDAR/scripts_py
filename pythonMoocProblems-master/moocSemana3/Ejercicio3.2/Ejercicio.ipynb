{
 "cells": [
  {
   "cell_type": "markdown",
   "metadata": {},
   "source": [
    "Antes de empezar, asegúrate de que todo va segun lo esperado. Primero, **reinicia el kernel** (en la barra de menu, selecciona Kernel$\\rightarrow$Restart) y entonces **ejecuta todas las celdas** (en la barra de menu, selecciona Cell$\\rightarrow$Run All).\n",
    "\n",
    "Asegurate de rellenar cualquier lugar donde aparezca `YOUR CODE HERE` o `YOUR ANSWER HERE`."
   ]
  },
  {
   "cell_type": "code",
   "execution_count": null,
   "metadata": {},
   "outputs": [],
   "source": [
    "import rassertions\n",
    "ANONYMOUS_ID=\"student\" #introduce aquí tu identificador anónimo"
   ]
  },
  {
   "cell_type": "markdown",
   "metadata": {},
   "source": [
    "# Enunciado de problema:\n",
    "\n",
    "Usando el comando **input** guardaremos en la variable \"primero\" un número entero que le solicitaremos al usuario.\n",
    "Usando el comando **input** guardaremos también en la variable \"segundo\" un número entero que le solicitaremos al usuario.\n",
    "\n",
    "Finalmente deberemos guardar en la variable \"mayor\" el número mayor de los 2 solicitados.\n",
    "\n",
    "Nota, acordaros de realizar la conversión de tipos en el **input**."
   ]
  },
  {
   "cell_type": "code",
   "execution_count": null,
   "metadata": {},
   "outputs": [],
   "source": [
    "#vuestro código tendrá que ir en el espacio reservado en esta celda\n",
    "\n",
    "# YOUR CODE HERE"
   ]
  },
  {
   "cell_type": "markdown",
   "metadata": {},
   "source": [
    "Ejecuta la celda siguiente cuando hayas finalizado el ejercicio para obtener tu clave de respuesta"
   ]
  },
  {
   "cell_type": "code",
   "execution_count": null,
   "metadata": {},
   "outputs": [],
   "source": [
    "rassertions.assert_control(globals(),locals())"
   ]
  }
 ],
 "metadata": {
  "kernelspec": {
   "display_name": "Python 3",
   "language": "python",
   "name": "python3"
  },
  "language_info": {
   "codemirror_mode": {
    "name": "ipython",
    "version": 3
   },
   "file_extension": ".py",
   "mimetype": "text/x-python",
   "name": "python",
   "nbconvert_exporter": "python",
   "pygments_lexer": "ipython3",
   "version": "3.7.6"
  }
 },
 "nbformat": 4,
 "nbformat_minor": 2
}
