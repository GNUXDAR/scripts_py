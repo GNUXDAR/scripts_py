{
 "cells": [
  {
   "cell_type": "markdown",
   "metadata": {},
   "source": [
    "Antes de empezar, asegúrate de que todo va segun lo esperado. Primero, **reinicia el kernel** (en la barra de menu, selecciona Kernel$\\rightarrow$Restart) y entonces **ejecuta todas las celdas** (en la barra de menu, selecciona Cell$\\rightarrow$Run All).\n",
    "\n",
    "Asegurate de rellenar cualquier lugar donde aparezca `YOUR CODE HERE` o `YOUR ANSWER HERE`."
   ]
  },
  {
   "cell_type": "markdown",
   "metadata": {},
   "source": [
    "# Enunciado de problema:\n",
    "\n",
    "Escribe una función **enelmedio** que dadas dos cadenas nos devuelva una sola cadena de modo que la segunda quede en el medio de la primera tal y como se muestra en los ejemplos.\n",
    "\n",
    "Ejemplo:\n",
    "\n",
    "- enelmedio('[::]','polipo')\n",
    "- -> '[:polipo:]'\n",
    "- enelmedio('rocodromo','XXX')\n",
    "- -> 'rocoXXXdromo'\n",
    "- enelmedio('-:..:-','Título')\n",
    "- -> '-:.Título.:-'"
   ]
  },
  {
   "cell_type": "code",
   "execution_count": null,
   "metadata": {},
   "outputs": [],
   "source": [
    "#vuestro código tendrá que ir en el espacio reservado en esta celda\n",
    "\n",
    "# YOUR CODE HERE"
   ]
  },
  {
   "cell_type": "markdown",
   "metadata": {},
   "source": [
    "<details>\n",
    "<summary>Pincha aqui para ver la solución</summary>\n",
    "<pre><code>\n",
    "def enelmedio(primera,segunda):\n",
    "    mitad = len(primera)//2\n",
    "    principio = primera[:mitad]\n",
    "    final = primera[mitad:]\n",
    "    resultado = principio+segunda+final\n",
    "    print(f'el resultado de tu llamada es {resultado}')\n",
    "    return resultado\n",
    "<code><pre>\n",
    "</details>"
   ]
  },
  {
   "cell_type": "markdown",
   "metadata": {},
   "source": [
    "Este ejercicio es autoevaluable pincha en ver la solución para comprobar si lo has realizado correctamente."
   ]
  }
 ],
 "metadata": {
  "kernelspec": {
   "display_name": "Python 3",
   "language": "python",
   "name": "python3"
  },
  "language_info": {
   "codemirror_mode": {
    "name": "ipython",
    "version": 3
   },
   "file_extension": ".py",
   "mimetype": "text/x-python",
   "name": "python",
   "nbconvert_exporter": "python",
   "pygments_lexer": "ipython3",
   "version": "3.7.6"
  },
  "varInspector": {
   "cols": {
    "lenName": 16,
    "lenType": 16,
    "lenVar": 40
   },
   "kernels_config": {
    "python": {
     "delete_cmd_postfix": "",
     "delete_cmd_prefix": "del ",
     "library": "var_list.py",
     "varRefreshCmd": "print(var_dic_list())"
    },
    "r": {
     "delete_cmd_postfix": ") ",
     "delete_cmd_prefix": "rm(",
     "library": "var_list.r",
     "varRefreshCmd": "cat(var_dic_list()) "
    }
   },
   "types_to_exclude": [
    "module",
    "function",
    "builtin_function_or_method",
    "instance",
    "_Feature"
   ],
   "window_display": false
  }
 },
 "nbformat": 4,
 "nbformat_minor": 2
}
