{
 "cells": [
  {
   "cell_type": "markdown",
   "metadata": {},
   "source": [
    "Antes de empezar, asegúrate de que todo va segun lo esperado. Primero, **reinicia el kernel** (en la barra de menu, selecciona Kernel$\\rightarrow$Restart) y entonces **ejecuta todas las celdas** (en la barra de menu, selecciona Cell$\\rightarrow$Run All).\n",
    "\n",
    "Asegurate de rellenar cualquier lugar donde aparezca `YOUR CODE HERE` o `YOUR ANSWER HERE`."
   ]
  },
  {
   "cell_type": "code",
   "execution_count": null,
   "metadata": {},
   "outputs": [],
   "source": [
    "import rassertions\n",
    "ANONYMOUS_ID=\"student\" #introduce aquí tu identificador anónimo"
   ]
  },
  {
   "cell_type": "markdown",
   "metadata": {},
   "source": [
    "# Enunciado de problema:\n",
    "\n",
    "A continuación define la función **cuentapalabras** la cual tendrá 2 parámetros, el primer parámetro será un texto y el segundo una palabra.\n",
    "\n",
    "La función deberá devolver usando el comando **return** el número de veces que aparece la palabra dentro del texto en una variable de tipo entero.\n",
    "\n",
    "Devolverá 0 si no aparece ninguna vez.\n",
    "\n",
    "Ejemplo:\n",
    "\n",
    "cuentapalabras('eran uno dos y tres los valientes', 'eran')\n",
    "    1\n",
    "cuentapalabras('dos manzanas tres peras dos naranjas', 'dos')\n",
    "    2"
   ]
  },
  {
   "cell_type": "code",
   "execution_count": null,
   "metadata": {},
   "outputs": [],
   "source": [
    "#vuestro código tendrá que ir en el espacio reservado en esta celda\n",
    "\n",
    "# YOUR CODE HERE"
   ]
  },
  {
   "cell_type": "code",
   "execution_count": null,
   "metadata": {},
   "outputs": [],
   "source": [
    "#prueba aquí el correcto funcionamiento de vuestro código\n",
    "\n",
    "# YOUR CODE HERE"
   ]
  },
  {
   "cell_type": "markdown",
   "metadata": {},
   "source": [
    "Ejecuta la celda siguiente cuando hayas finalizado el ejercicio para obtener tu clave de respuesta"
   ]
  },
  {
   "cell_type": "code",
   "execution_count": null,
   "metadata": {},
   "outputs": [],
   "source": [
    "rassertions.assert_control(globals(),locals())"
   ]
  }
 ],
 "metadata": {
  "kernelspec": {
   "display_name": "Python 3",
   "language": "python",
   "name": "python3"
  },
  "language_info": {
   "codemirror_mode": {
    "name": "ipython",
    "version": 3
   },
   "file_extension": ".py",
   "mimetype": "text/x-python",
   "name": "python",
   "nbconvert_exporter": "python",
   "pygments_lexer": "ipython3",
   "version": "3.7.6"
  }
 },
 "nbformat": 4,
 "nbformat_minor": 2
}
