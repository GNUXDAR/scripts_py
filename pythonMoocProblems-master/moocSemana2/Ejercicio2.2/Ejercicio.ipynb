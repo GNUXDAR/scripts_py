{
 "cells": [
  {
   "cell_type": "markdown",
   "metadata": {},
   "source": [
    "Antes de empezar, asegúrate de que todo va segun lo esperado. Primero, **reinicia el kernel** (en la barra de menu, selecciona Kernel$\\rightarrow$Restart) y entonces **ejecuta todas las celdas** (en la barra de menu, selecciona Cell$\\rightarrow$Run All).\n",
    "\n",
    "Asegurate de rellenar cualquier lugar donde aparezca `YOUR CODE HERE` o `YOUR ANSWER HERE`."
   ]
  },
  {
   "cell_type": "code",
   "execution_count": null,
   "metadata": {},
   "outputs": [],
   "source": [
    "import rassertions\n",
    "ANONYMOUS_ID=\"student\" #introduce aquí tu identificador anónimo"
   ]
  },
  {
   "cell_type": "markdown",
   "metadata": {},
   "source": [
    "# Enunciado de problema:\n",
    "\n",
    "En el siguiente fragmento de código tenemos un input en el que le solicitamos al usuario cuantos litros de agua se ha bebido hoy y se los vamos a restar a la variable \"aguaEnDeposito\" de modo que tendremos un control de cuando comprar agua.\n",
    "\n",
    "Realiza una conversión del tipo de datos del input para que sea de tipo int y asígnalo a la variable consumo de modo que podamos hacer la resta."
   ]
  },
  {
   "cell_type": "code",
   "execution_count": null,
   "metadata": {},
   "outputs": [],
   "source": [
    "#modifica el código a continuación para que el resultado final sea el solicitado en el enunciado\n",
    "\n",
    "# YOUR CODE HERE\n",
    "aguaEnDeposito = 50\n",
    "consumo = input ('¿Cuantos litros de agua has consumido hoy?')\n",
    "resultado = aguaEnDeposito - consumo"
   ]
  },
  {
   "cell_type": "markdown",
   "metadata": {},
   "source": [
    "Ejecuta la celda siguiente cuando hayas finalizado el ejercicio para obtener tu clave de respuesta"
   ]
  },
  {
   "cell_type": "code",
   "execution_count": null,
   "metadata": {},
   "outputs": [],
   "source": [
    "rassertions.assert_control(globals(),locals())"
   ]
  }
 ],
 "metadata": {
  "kernelspec": {
   "display_name": "Python 3",
   "language": "python",
   "name": "python3"
  },
  "language_info": {
   "codemirror_mode": {
    "name": "ipython",
    "version": 3
   },
   "file_extension": ".py",
   "mimetype": "text/x-python",
   "name": "python",
   "nbconvert_exporter": "python",
   "pygments_lexer": "ipython3",
   "version": "3.7.6"
  }
 },
 "nbformat": 4,
 "nbformat_minor": 2
}
