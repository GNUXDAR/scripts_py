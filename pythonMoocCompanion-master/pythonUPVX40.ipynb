{
 "cells": [
  {
   "cell_type": "markdown",
   "metadata": {},
   "source": [
    "# Códigos de caracteres en fichero\n",
    "\n",
    "En los archivo adjuntos 'quijote.txt'y 'quijoteansi.txt hemos dejado los primeros párrafos del libro que comparte nombre con el archivo guardados con dos códigos de caracteres distintos, utf-8 y ansi.\n",
    "\n",
    "Vamos a ver qué pasa si cargamos un párrafo cualquiera de ambos ficheros y los imprimimos."
   ]
  },
  {
   "cell_type": "code",
   "execution_count": 1,
   "metadata": {},
   "outputs": [
    {
     "data": {
      "text/plain": [
       "'Puesto nombre, y tan a su gusto, a su caballo, quiso ponÃ©rsele a sÃ\\xad mismo, y en este pensamiento durÃ³ otros ocho dÃ\\xadas, y al cabo se vino a llamar don Quijote; de donde -como queda dicho- tomaron ocasiÃ³n los autores desta tan verdadera historia que, sin duda, se debÃ\\xada de llamar Quijada, y no Quesada, como otros quisieron decir. Pero, acordÃ¡ndose que el valeroso AmadÃ\\xads no sÃ³lo se habÃ\\xada contentado con llamarse AmadÃ\\xads a secas, sino que aÃ±adiÃ³ el nombre de su reino y patria, por Hepila famosa, y se llamÃ³ AmadÃ\\xads de Gaula, asÃ\\xad quiso, como buen caballero, aÃ±adir al suyo el nombre de la suya y llamarse don Quijote de la Mancha, con que, a su parecer, declaraba muy al vivo su linaje y patria, y la honraba con tomar el sobrenombre della.'"
      ]
     },
     "execution_count": 1,
     "metadata": {},
     "output_type": "execute_result"
    }
   ],
   "source": [
    "\n",
    "# definimos una función que cargue todos los párrafos y seleccione uno \n",
    "def parrafo(numerodeparrafo):\n",
    "    #primero cargamos el fichero\n",
    "    fichero = open('quijote.txt')\n",
    "    #lo leemos\n",
    "    texto = fichero.read()\n",
    "    #y seleccionamos el párrafo indicado en el parámetro \n",
    "    parrafos = texto.split('\\n')\n",
    "    while '' in parrafos: \n",
    "        parrafos.remove('')    \n",
    "    parrafoseleccionado=parrafos[numerodeparrafo]\n",
    "   \n",
    "    #acordaos de cerrar el fichero si no lo habéis abierto con un with\n",
    "    fichero.close()    \n",
    "    return(parrafoseleccionado)\n",
    "\n",
    "parrafo(8)\n"
   ]
  },
  {
   "cell_type": "markdown",
   "metadata": {},
   "source": [
    "Incorporamos ahora un parámetro a la carga del fichero para indicar a Python el código de caracteres."
   ]
  },
  {
   "cell_type": "code",
   "execution_count": 5,
   "metadata": {},
   "outputs": [
    {
     "ename": "UnicodeDecodeError",
     "evalue": "'utf-8' codec can't decode byte 0xed in position 88: invalid continuation byte",
     "output_type": "error",
     "traceback": [
      "\u001b[1;31m---------------------------------------------------------------------------\u001b[0m",
      "\u001b[1;31mUnicodeDecodeError\u001b[0m                        Traceback (most recent call last)",
      "\u001b[1;32m<ipython-input-5-1dc2912dd201>\u001b[0m in \u001b[0;36m<module>\u001b[1;34m\u001b[0m\n\u001b[0;32m     18\u001b[0m     \u001b[0mfichero\u001b[0m\u001b[1;33m.\u001b[0m\u001b[0mclose\u001b[0m\u001b[1;33m(\u001b[0m\u001b[1;33m)\u001b[0m\u001b[1;33m\u001b[0m\u001b[1;33m\u001b[0m\u001b[0m\n\u001b[0;32m     19\u001b[0m     \u001b[1;32mreturn\u001b[0m\u001b[1;33m(\u001b[0m\u001b[0mparrafoseleccionado\u001b[0m\u001b[1;33m)\u001b[0m\u001b[1;33m\u001b[0m\u001b[1;33m\u001b[0m\u001b[0m\n\u001b[1;32m---> 20\u001b[1;33m \u001b[0mparrafo\u001b[0m\u001b[1;33m(\u001b[0m\u001b[1;36m8\u001b[0m\u001b[1;33m)\u001b[0m\u001b[1;33m\u001b[0m\u001b[1;33m\u001b[0m\u001b[0m\n\u001b[0m",
      "\u001b[1;32m<ipython-input-5-1dc2912dd201>\u001b[0m in \u001b[0;36mparrafo\u001b[1;34m(numerodeparrafo)\u001b[0m\n\u001b[0;32m      7\u001b[0m \u001b[1;33m\u001b[0m\u001b[0m\n\u001b[0;32m      8\u001b[0m     \u001b[1;31m#lo leemos\u001b[0m\u001b[1;33m\u001b[0m\u001b[1;33m\u001b[0m\u001b[1;33m\u001b[0m\u001b[0m\n\u001b[1;32m----> 9\u001b[1;33m     \u001b[0mtexto\u001b[0m \u001b[1;33m=\u001b[0m \u001b[0mfichero\u001b[0m\u001b[1;33m.\u001b[0m\u001b[0mread\u001b[0m\u001b[1;33m(\u001b[0m\u001b[1;33m)\u001b[0m\u001b[1;33m\u001b[0m\u001b[1;33m\u001b[0m\u001b[0m\n\u001b[0m\u001b[0;32m     10\u001b[0m     \u001b[1;31m#y seleccionamos el párrafo indicado en el parámetro\u001b[0m\u001b[1;33m\u001b[0m\u001b[1;33m\u001b[0m\u001b[1;33m\u001b[0m\u001b[0m\n\u001b[0;32m     11\u001b[0m     \u001b[0mparrafos\u001b[0m \u001b[1;33m=\u001b[0m \u001b[0mtexto\u001b[0m\u001b[1;33m.\u001b[0m\u001b[0msplit\u001b[0m\u001b[1;33m(\u001b[0m\u001b[1;34m'\\n'\u001b[0m\u001b[1;33m)\u001b[0m\u001b[1;33m\u001b[0m\u001b[1;33m\u001b[0m\u001b[0m\n",
      "\u001b[1;32mC:\\ProgramData\\Anaconda3\\lib\\codecs.py\u001b[0m in \u001b[0;36mdecode\u001b[1;34m(self, input, final)\u001b[0m\n\u001b[0;32m    320\u001b[0m         \u001b[1;31m# decode input (taking the buffer into account)\u001b[0m\u001b[1;33m\u001b[0m\u001b[1;33m\u001b[0m\u001b[1;33m\u001b[0m\u001b[0m\n\u001b[0;32m    321\u001b[0m         \u001b[0mdata\u001b[0m \u001b[1;33m=\u001b[0m \u001b[0mself\u001b[0m\u001b[1;33m.\u001b[0m\u001b[0mbuffer\u001b[0m \u001b[1;33m+\u001b[0m \u001b[0minput\u001b[0m\u001b[1;33m\u001b[0m\u001b[1;33m\u001b[0m\u001b[0m\n\u001b[1;32m--> 322\u001b[1;33m         \u001b[1;33m(\u001b[0m\u001b[0mresult\u001b[0m\u001b[1;33m,\u001b[0m \u001b[0mconsumed\u001b[0m\u001b[1;33m)\u001b[0m \u001b[1;33m=\u001b[0m \u001b[0mself\u001b[0m\u001b[1;33m.\u001b[0m\u001b[0m_buffer_decode\u001b[0m\u001b[1;33m(\u001b[0m\u001b[0mdata\u001b[0m\u001b[1;33m,\u001b[0m \u001b[0mself\u001b[0m\u001b[1;33m.\u001b[0m\u001b[0merrors\u001b[0m\u001b[1;33m,\u001b[0m \u001b[0mfinal\u001b[0m\u001b[1;33m)\u001b[0m\u001b[1;33m\u001b[0m\u001b[1;33m\u001b[0m\u001b[0m\n\u001b[0m\u001b[0;32m    323\u001b[0m         \u001b[1;31m# keep undecoded input until the next call\u001b[0m\u001b[1;33m\u001b[0m\u001b[1;33m\u001b[0m\u001b[1;33m\u001b[0m\u001b[0m\n\u001b[0;32m    324\u001b[0m         \u001b[0mself\u001b[0m\u001b[1;33m.\u001b[0m\u001b[0mbuffer\u001b[0m \u001b[1;33m=\u001b[0m \u001b[0mdata\u001b[0m\u001b[1;33m[\u001b[0m\u001b[0mconsumed\u001b[0m\u001b[1;33m:\u001b[0m\u001b[1;33m]\u001b[0m\u001b[1;33m\u001b[0m\u001b[1;33m\u001b[0m\u001b[0m\n",
      "\u001b[1;31mUnicodeDecodeError\u001b[0m: 'utf-8' codec can't decode byte 0xed in position 88: invalid continuation byte"
     ]
    }
   ],
   "source": [
    "def parrafo(numerodeparrafo):\n",
    "    #primero cargamos el fichero\n",
    "    #fichero = open('quijote.txt', \"r\", encoding=\"utf-8\")\n",
    "    #fichero = open('quijote.txt', \"r\", encoding=\"ansi\")\n",
    "    #fichero = open('quijoteansi.txt', \"r\", encoding=\"ansi\")\n",
    "    fichero = open('quijoteansi.txt', \"r\", encoding=\"utf-8\")\n",
    "    \n",
    "    #lo leemos\n",
    "    texto = fichero.read()\n",
    "    #y seleccionamos el párrafo indicado en el parámetro \n",
    "    parrafos = texto.split('\\n')\n",
    "    while '' in parrafos: \n",
    "        parrafos.remove('')    \n",
    "    \n",
    "    parrafoseleccionado=parrafos[numerodeparrafo]\n",
    "     \n",
    "    #acordaos de cerrar el fichero si no lo habéis abierto con un with\n",
    "    fichero.close()    \n",
    "    return(parrafoseleccionado)\n",
    "parrafo(8)\n"
   ]
  },
  {
   "cell_type": "code",
   "execution_count": null,
   "metadata": {},
   "outputs": [],
   "source": []
  }
 ],
 "metadata": {
  "kernelspec": {
   "display_name": "Python 3",
   "language": "python",
   "name": "python3"
  },
  "language_info": {
   "codemirror_mode": {
    "name": "ipython",
    "version": 3
   },
   "file_extension": ".py",
   "mimetype": "text/x-python",
   "name": "python",
   "nbconvert_exporter": "python",
   "pygments_lexer": "ipython3",
   "version": "3.7.6"
  }
 },
 "nbformat": 4,
 "nbformat_minor": 2
}
