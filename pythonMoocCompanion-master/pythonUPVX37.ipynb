{
 "cells": [
  {
   "cell_type": "markdown",
   "metadata": {
    "colab_type": "text",
    "id": "ml6rHqNjP7Wb"
   },
   "source": [
    "## Códigos de caracteres\n",
    "\n",
    "Veamos un ejemplo de cómo trabaja Python (o cualquier otro lenguaje) con las cadenas de texto:"
   ]
  },
  {
   "cell_type": "markdown",
   "metadata": {
    "colab_type": "text",
    "id": "lZYxvvEEQdtx"
   },
   "source": [
    "Veamos cómo almacena Python cualquier caracter de texto (letra, número, símbolo) "
   ]
  },
  {
   "cell_type": "code",
   "execution_count": 10,
   "metadata": {
    "colab": {},
    "colab_type": "code",
    "id": "YBymJnpbQdfo"
   },
   "outputs": [
    {
     "data": {
      "text/plain": [
       "33"
      ]
     },
     "execution_count": 10,
     "metadata": {},
     "output_type": "execute_result"
    }
   ],
   "source": [
    "letra=\"!\"\n",
    "ord(letra)"
   ]
  },
  {
   "cell_type": "markdown",
   "metadata": {
    "colab_type": "text",
    "id": "hFmjFikeQ_Q5"
   },
   "source": [
    "También podemos obtener la letra correspondiente a un número del código"
   ]
  },
  {
   "cell_type": "code",
   "execution_count": 12,
   "metadata": {
    "colab": {},
    "colab_type": "code",
    "id": "Co9O5q5KRG0H"
   },
   "outputs": [
    {
     "data": {
      "text/plain": [
       "'Y'"
      ]
     },
     "execution_count": 12,
     "metadata": {},
     "output_type": "execute_result"
    }
   ],
   "source": [
    "chr(89)"
   ]
  },
  {
   "cell_type": "markdown",
   "metadata": {
    "colab_type": "text",
    "id": "lZYxvvEEQdtx"
   },
   "source": [
    "Podemos ver también los códigos de todos los caracteres de una cadena:"
   ]
  },
  {
   "cell_type": "code",
   "execution_count": 13,
   "metadata": {
    "colab": {},
    "colab_type": "code",
    "id": "Co9O5q5KRG0H"
   },
   "outputs": [
    {
     "name": "stdout",
     "output_type": "stream",
     "text": [
      "69 108 32 112 101 114 114 111 32 100 101 32 82 111 113 117 101 "
     ]
    }
   ],
   "source": [
    "cadena=\"El perro de Roque\"\n",
    "for letra in cadena:\n",
    "    print(ord(letra),end=\" \")"
   ]
  },
  {
   "cell_type": "markdown",
   "metadata": {
    "colab_type": "text",
    "id": "lZYxvvEEQdtx"
   },
   "source": [
    "Podemos utilizar esta forma de almacenar los caracteres para encriptar un mensaje de forma sencilla con una encriptación por desplazamiento, también conocida como cifrado César (https://es.wikipedia.org/wiki/Cifrado_C%C3%A9sar):"
   ]
  },
  {
   "cell_type": "code",
   "execution_count": 15,
   "metadata": {},
   "outputs": [
    {
     "name": "stdout",
     "output_type": "stream",
     "text": [
      "El perro de Roque\n",
      "Ls'wlyyv'kl'Yvx|l\n",
      "El perro de Roque\n"
     ]
    }
   ],
   "source": [
    "cadena=\"El perro de Roque\"\n",
    "cadenacodificada=\"\"\n",
    "desplazamiento=7\n",
    "for letra in cadena:\n",
    "    cadenacodificada=cadenacodificada+chr(ord(letra)+desplazamiento)\n",
    "cadenadecodificada=''\n",
    "for letra in cadenacodificada:\n",
    "    cadenadecodificada=cadenadecodificada+chr(ord(letra)-desplazamiento)\n",
    "\n",
    "print(cadena)\n",
    "print(cadenacodificada)\n",
    "print(cadenadecodificada)"
   ]
  },
  {
   "cell_type": "code",
   "execution_count": null,
   "metadata": {},
   "outputs": [],
   "source": []
  }
 ],
 "metadata": {
  "colab": {
   "name": "pythonUPVX36.ipynb",
   "provenance": []
  },
  "kernelspec": {
   "display_name": "Python 3",
   "language": "python",
   "name": "python3"
  },
  "language_info": {
   "codemirror_mode": {
    "name": "ipython",
    "version": 3
   },
   "file_extension": ".py",
   "mimetype": "text/x-python",
   "name": "python",
   "nbconvert_exporter": "python",
   "pygments_lexer": "ipython3",
   "version": "3.7.6"
  }
 },
 "nbformat": 4,
 "nbformat_minor": 1
}
